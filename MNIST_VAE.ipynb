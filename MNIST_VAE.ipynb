{
 "cells": [
  {
   "cell_type": "code",
   "execution_count": 1,
   "metadata": {},
   "outputs": [],
   "source": [
    "import torch\n",
    "from torch import nn  \n",
    "import torchvision\n",
    "import torchvision.datasets as datasets\n",
    "import numpy as np \n",
    "import matplotlib.pyplot as plt \n",
    "import seaborn as sns\n",
    "import tensorflow as tf\n",
    "from torch.utils.data import TensorDataset\n",
    "from torch import optim\n",
    "from mnist import MnistLoader\n",
    "from model import VAE, LatentEncoder, AutoEncoder\n",
    "from train import VAETrainer\n",
    "import matplotlib.pyplot as plt\n",
    "import numpy as np\n",
    "import imageio\n",
    "import torchvision.transforms as transforms\n",
    "from utils import get_label\n",
    "import pandas as pd"
   ]
  },
  {
   "cell_type": "code",
   "execution_count": 2,
   "metadata": {},
   "outputs": [],
   "source": [
    "to_pil_image = transforms.ToPILImage()\n",
    "def image_to_vid(images, name):\n",
    "    imgs = [np.array(to_pil_image(img)) for img in images]\n",
    "    imageio.mimsave(f'outputs/{name}.gif', imgs)"
   ]
  },
  {
   "cell_type": "code",
   "execution_count": 3,
   "metadata": {},
   "outputs": [
    {
     "output_type": "execute_result",
     "data": {
      "text/plain": [
       "VAE(\n",
       "  (cnn_encoder): Sequential(\n",
       "    (0): Conv2d(1, 32, kernel_size=(5, 5), stride=(1, 1))\n",
       "    (1): ReLU()\n",
       "    (2): MaxPool2d(kernel_size=2, stride=2, padding=0, dilation=1, ceil_mode=False)\n",
       "    (3): Conv2d(32, 64, kernel_size=(5, 5), stride=(1, 1), padding=(1, 1))\n",
       "    (4): ReLU()\n",
       "    (5): MaxPool2d(kernel_size=2, stride=2, padding=0, dilation=1, ceil_mode=False)\n",
       "  )\n",
       "  (fc_encoder): Sequential(\n",
       "    (0): Linear(in_features=1600, out_features=1024, bias=True)\n",
       "    (1): ReLU()\n",
       "    (2): Linear(in_features=1024, out_features=32, bias=True)\n",
       "  )\n",
       "  (fc_decoder): Sequential(\n",
       "    (0): Linear(in_features=16, out_features=1024, bias=True)\n",
       "    (1): ReLU()\n",
       "    (2): BatchNorm1d(1024, eps=1e-05, momentum=0.1, affine=True, track_running_stats=True)\n",
       "    (3): Linear(in_features=1024, out_features=1600, bias=True)\n",
       "    (4): ReLU()\n",
       "    (5): BatchNorm1d(1600, eps=1e-05, momentum=0.1, affine=True, track_running_stats=True)\n",
       "  )\n",
       "  (cnn_decoder): Sequential(\n",
       "    (0): ConvTranspose2d(64, 64, kernel_size=(4, 4), stride=(2, 2), output_padding=(1, 1))\n",
       "    (1): ReLU()\n",
       "    (2): BatchNorm2d(64, eps=1e-05, momentum=0.1, affine=True, track_running_stats=True)\n",
       "    (3): ConvTranspose2d(64, 1, kernel_size=(4, 4), stride=(2, 2))\n",
       "  )\n",
       ")"
      ]
     },
     "metadata": {},
     "execution_count": 3
    }
   ],
   "source": [
    "data = MnistLoader(batch_size=128, shuffle=True, normalize=False)\n",
    "vae = VAE(latent_dim=16) \n",
    "vae.load_state_dict(torch.load('saved_models/vae-state-dict-v3'))\n",
    "vae.cuda()"
   ]
  },
  {
   "cell_type": "code",
   "execution_count": 4,
   "metadata": {},
   "outputs": [
    {
     "data": {
      "text/plain": [
       "<All keys matched successfully>"
      ]
     },
     "execution_count": 4,
     "metadata": {},
     "output_type": "execute_result"
    }
   ],
   "source": [
    "latent_encoder = LatentEncoder()\n",
    "latent_encoder.cuda()\n",
    "\n",
    "autoencoder = AutoEncoder(vae, latent_encoder)\n",
    "autoencoder.cuda()\n",
    "autoencoder.load_state_dict(\n",
    "    torch.load('saved_models/vae-lcifr-trained-v2')\n",
    "    )"
   ]
  },
  {
   "cell_type": "code",
   "execution_count": 5,
   "metadata": {},
   "outputs": [
    {
     "data": {
      "text/plain": [
       "<All keys matched successfully>"
      ]
     },
     "execution_count": 5,
     "metadata": {},
     "output_type": "execute_result"
    }
   ],
   "source": [
    "clf = LatentEncoder()\n",
    "clf.cuda()\n",
    "clf.load_state_dict(torch.load('saved_models/latent_state_dict_v1'))"
   ]
  },
  {
   "cell_type": "code",
   "execution_count": 26,
   "metadata": {},
   "outputs": [
    {
     "output_type": "display_data",
     "data": {
      "text/plain": "<Figure size 432x288 with 1 Axes>",
      "image/svg+xml": "<?xml version=\"1.0\" encoding=\"utf-8\" standalone=\"no\"?>\n<!DOCTYPE svg PUBLIC \"-//W3C//DTD SVG 1.1//EN\"\n  \"http://www.w3.org/Graphics/SVG/1.1/DTD/svg11.dtd\">\n<!-- Created with matplotlib (https://matplotlib.org/) -->\n<svg height=\"248.518125pt\" version=\"1.1\" viewBox=\"0 0 251.565 248.518125\" width=\"251.565pt\" xmlns=\"http://www.w3.org/2000/svg\" xmlns:xlink=\"http://www.w3.org/1999/xlink\">\n <metadata>\n  <rdf:RDF xmlns:cc=\"http://creativecommons.org/ns#\" xmlns:dc=\"http://purl.org/dc/elements/1.1/\" xmlns:rdf=\"http://www.w3.org/1999/02/22-rdf-syntax-ns#\">\n   <cc:Work>\n    <dc:type rdf:resource=\"http://purl.org/dc/dcmitype/StillImage\"/>\n    <dc:date>2021-05-08T18:07:38.707483</dc:date>\n    <dc:format>image/svg+xml</dc:format>\n    <dc:creator>\n     <cc:Agent>\n      <dc:title>Matplotlib v3.3.4, https://matplotlib.org/</dc:title>\n     </cc:Agent>\n    </dc:creator>\n   </cc:Work>\n  </rdf:RDF>\n </metadata>\n <defs>\n  <style type=\"text/css\">*{stroke-linecap:butt;stroke-linejoin:round;}</style>\n </defs>\n <g id=\"figure_1\">\n  <g id=\"patch_1\">\n   <path d=\"M 0 248.518125 \nL 251.565 248.518125 \nL 251.565 0 \nL 0 0 \nz\n\" style=\"fill:none;\"/>\n  </g>\n  <g id=\"axes_1\">\n   <g id=\"patch_2\">\n    <path d=\"M 26.925 224.64 \nL 244.365 224.64 \nL 244.365 7.2 \nL 26.925 7.2 \nz\n\" style=\"fill:#ffffff;\"/>\n   </g>\n   <g clip-path=\"url(#p69634e5847)\">\n    <image height=\"218\" id=\"image4265ebac1b\" transform=\"scale(1 -1)translate(0 -218)\" width=\"218\" x=\"26.925\" xlink:href=\"data:image/png;base64,\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\" y=\"-6.64\"/>\n   </g>\n   <g id=\"matplotlib.axis_1\">\n    <g id=\"xtick_1\">\n     <g id=\"line2d_1\">\n      <defs>\n       <path d=\"M 0 0 \nL 0 3.5 \n\" id=\"mdae29648f3\" style=\"stroke:#000000;stroke-width:0.8;\"/>\n      </defs>\n      <g>\n       <use style=\"stroke:#000000;stroke-width:0.8;\" x=\"30.807857\" xlink:href=\"#mdae29648f3\" y=\"224.64\"/>\n      </g>\n     </g>\n     <g id=\"text_1\">\n      <!-- 0 -->\n      <g transform=\"translate(27.626607 239.238437)scale(0.1 -0.1)\">\n       <defs>\n        <path d=\"M 31.78125 66.40625 \nQ 24.171875 66.40625 20.328125 58.90625 \nQ 16.5 51.421875 16.5 36.375 \nQ 16.5 21.390625 20.328125 13.890625 \nQ 24.171875 6.390625 31.78125 6.390625 \nQ 39.453125 6.390625 43.28125 13.890625 \nQ 47.125 21.390625 47.125 36.375 \nQ 47.125 51.421875 43.28125 58.90625 \nQ 39.453125 66.40625 31.78125 66.40625 \nz\nM 31.78125 74.21875 \nQ 44.046875 74.21875 50.515625 64.515625 \nQ 56.984375 54.828125 56.984375 36.375 \nQ 56.984375 17.96875 50.515625 8.265625 \nQ 44.046875 -1.421875 31.78125 -1.421875 \nQ 19.53125 -1.421875 13.0625 8.265625 \nQ 6.59375 17.96875 6.59375 36.375 \nQ 6.59375 54.828125 13.0625 64.515625 \nQ 19.53125 74.21875 31.78125 74.21875 \nz\n\" id=\"DejaVuSans-48\"/>\n       </defs>\n       <use xlink:href=\"#DejaVuSans-48\"/>\n      </g>\n     </g>\n    </g>\n    <g id=\"xtick_2\">\n     <g id=\"line2d_2\">\n      <g>\n       <use style=\"stroke:#000000;stroke-width:0.8;\" x=\"69.636429\" xlink:href=\"#mdae29648f3\" y=\"224.64\"/>\n      </g>\n     </g>\n     <g id=\"text_2\">\n      <!-- 5 -->\n      <g transform=\"translate(66.455179 239.238437)scale(0.1 -0.1)\">\n       <defs>\n        <path d=\"M 10.796875 72.90625 \nL 49.515625 72.90625 \nL 49.515625 64.59375 \nL 19.828125 64.59375 \nL 19.828125 46.734375 \nQ 21.96875 47.46875 24.109375 47.828125 \nQ 26.265625 48.1875 28.421875 48.1875 \nQ 40.625 48.1875 47.75 41.5 \nQ 54.890625 34.8125 54.890625 23.390625 \nQ 54.890625 11.625 47.5625 5.09375 \nQ 40.234375 -1.421875 26.90625 -1.421875 \nQ 22.3125 -1.421875 17.546875 -0.640625 \nQ 12.796875 0.140625 7.71875 1.703125 \nL 7.71875 11.625 \nQ 12.109375 9.234375 16.796875 8.0625 \nQ 21.484375 6.890625 26.703125 6.890625 \nQ 35.15625 6.890625 40.078125 11.328125 \nQ 45.015625 15.765625 45.015625 23.390625 \nQ 45.015625 31 40.078125 35.4375 \nQ 35.15625 39.890625 26.703125 39.890625 \nQ 22.75 39.890625 18.8125 39.015625 \nQ 14.890625 38.140625 10.796875 36.28125 \nz\n\" id=\"DejaVuSans-53\"/>\n       </defs>\n       <use xlink:href=\"#DejaVuSans-53\"/>\n      </g>\n     </g>\n    </g>\n    <g id=\"xtick_3\">\n     <g id=\"line2d_3\">\n      <g>\n       <use style=\"stroke:#000000;stroke-width:0.8;\" x=\"108.465\" xlink:href=\"#mdae29648f3\" y=\"224.64\"/>\n      </g>\n     </g>\n     <g id=\"text_3\">\n      <!-- 10 -->\n      <g transform=\"translate(102.1025 239.238437)scale(0.1 -0.1)\">\n       <defs>\n        <path d=\"M 12.40625 8.296875 \nL 28.515625 8.296875 \nL 28.515625 63.921875 \nL 10.984375 60.40625 \nL 10.984375 69.390625 \nL 28.421875 72.90625 \nL 38.28125 72.90625 \nL 38.28125 8.296875 \nL 54.390625 8.296875 \nL 54.390625 0 \nL 12.40625 0 \nz\n\" id=\"DejaVuSans-49\"/>\n       </defs>\n       <use xlink:href=\"#DejaVuSans-49\"/>\n       <use x=\"63.623047\" xlink:href=\"#DejaVuSans-48\"/>\n      </g>\n     </g>\n    </g>\n    <g id=\"xtick_4\">\n     <g id=\"line2d_4\">\n      <g>\n       <use style=\"stroke:#000000;stroke-width:0.8;\" x=\"147.293571\" xlink:href=\"#mdae29648f3\" y=\"224.64\"/>\n      </g>\n     </g>\n     <g id=\"text_4\">\n      <!-- 15 -->\n      <g transform=\"translate(140.931071 239.238437)scale(0.1 -0.1)\">\n       <use xlink:href=\"#DejaVuSans-49\"/>\n       <use x=\"63.623047\" xlink:href=\"#DejaVuSans-53\"/>\n      </g>\n     </g>\n    </g>\n    <g id=\"xtick_5\">\n     <g id=\"line2d_5\">\n      <g>\n       <use style=\"stroke:#000000;stroke-width:0.8;\" x=\"186.122143\" xlink:href=\"#mdae29648f3\" y=\"224.64\"/>\n      </g>\n     </g>\n     <g id=\"text_5\">\n      <!-- 20 -->\n      <g transform=\"translate(179.759643 239.238437)scale(0.1 -0.1)\">\n       <defs>\n        <path d=\"M 19.1875 8.296875 \nL 53.609375 8.296875 \nL 53.609375 0 \nL 7.328125 0 \nL 7.328125 8.296875 \nQ 12.9375 14.109375 22.625 23.890625 \nQ 32.328125 33.6875 34.8125 36.53125 \nQ 39.546875 41.84375 41.421875 45.53125 \nQ 43.3125 49.21875 43.3125 52.78125 \nQ 43.3125 58.59375 39.234375 62.25 \nQ 35.15625 65.921875 28.609375 65.921875 \nQ 23.96875 65.921875 18.8125 64.3125 \nQ 13.671875 62.703125 7.8125 59.421875 \nL 7.8125 69.390625 \nQ 13.765625 71.78125 18.9375 73 \nQ 24.125 74.21875 28.421875 74.21875 \nQ 39.75 74.21875 46.484375 68.546875 \nQ 53.21875 62.890625 53.21875 53.421875 \nQ 53.21875 48.921875 51.53125 44.890625 \nQ 49.859375 40.875 45.40625 35.40625 \nQ 44.1875 33.984375 37.640625 27.21875 \nQ 31.109375 20.453125 19.1875 8.296875 \nz\n\" id=\"DejaVuSans-50\"/>\n       </defs>\n       <use xlink:href=\"#DejaVuSans-50\"/>\n       <use x=\"63.623047\" xlink:href=\"#DejaVuSans-48\"/>\n      </g>\n     </g>\n    </g>\n    <g id=\"xtick_6\">\n     <g id=\"line2d_6\">\n      <g>\n       <use style=\"stroke:#000000;stroke-width:0.8;\" x=\"224.950714\" xlink:href=\"#mdae29648f3\" y=\"224.64\"/>\n      </g>\n     </g>\n     <g id=\"text_6\">\n      <!-- 25 -->\n      <g transform=\"translate(218.588214 239.238437)scale(0.1 -0.1)\">\n       <use xlink:href=\"#DejaVuSans-50\"/>\n       <use x=\"63.623047\" xlink:href=\"#DejaVuSans-53\"/>\n      </g>\n     </g>\n    </g>\n   </g>\n   <g id=\"matplotlib.axis_2\">\n    <g id=\"ytick_1\">\n     <g id=\"line2d_7\">\n      <defs>\n       <path d=\"M 0 0 \nL -3.5 0 \n\" id=\"maded4d1726\" style=\"stroke:#000000;stroke-width:0.8;\"/>\n      </defs>\n      <g>\n       <use style=\"stroke:#000000;stroke-width:0.8;\" x=\"26.925\" xlink:href=\"#maded4d1726\" y=\"11.082857\"/>\n      </g>\n     </g>\n     <g id=\"text_7\">\n      <!-- 0 -->\n      <g transform=\"translate(13.5625 14.882076)scale(0.1 -0.1)\">\n       <use xlink:href=\"#DejaVuSans-48\"/>\n      </g>\n     </g>\n    </g>\n    <g id=\"ytick_2\">\n     <g id=\"line2d_8\">\n      <g>\n       <use style=\"stroke:#000000;stroke-width:0.8;\" x=\"26.925\" xlink:href=\"#maded4d1726\" y=\"49.911429\"/>\n      </g>\n     </g>\n     <g id=\"text_8\">\n      <!-- 5 -->\n      <g transform=\"translate(13.5625 53.710647)scale(0.1 -0.1)\">\n       <use xlink:href=\"#DejaVuSans-53\"/>\n      </g>\n     </g>\n    </g>\n    <g id=\"ytick_3\">\n     <g id=\"line2d_9\">\n      <g>\n       <use style=\"stroke:#000000;stroke-width:0.8;\" x=\"26.925\" xlink:href=\"#maded4d1726\" y=\"88.74\"/>\n      </g>\n     </g>\n     <g id=\"text_9\">\n      <!-- 10 -->\n      <g transform=\"translate(7.2 92.539219)scale(0.1 -0.1)\">\n       <use xlink:href=\"#DejaVuSans-49\"/>\n       <use x=\"63.623047\" xlink:href=\"#DejaVuSans-48\"/>\n      </g>\n     </g>\n    </g>\n    <g id=\"ytick_4\">\n     <g id=\"line2d_10\">\n      <g>\n       <use style=\"stroke:#000000;stroke-width:0.8;\" x=\"26.925\" xlink:href=\"#maded4d1726\" y=\"127.568571\"/>\n      </g>\n     </g>\n     <g id=\"text_10\">\n      <!-- 15 -->\n      <g transform=\"translate(7.2 131.36779)scale(0.1 -0.1)\">\n       <use xlink:href=\"#DejaVuSans-49\"/>\n       <use x=\"63.623047\" xlink:href=\"#DejaVuSans-53\"/>\n      </g>\n     </g>\n    </g>\n    <g id=\"ytick_5\">\n     <g id=\"line2d_11\">\n      <g>\n       <use style=\"stroke:#000000;stroke-width:0.8;\" x=\"26.925\" xlink:href=\"#maded4d1726\" y=\"166.397143\"/>\n      </g>\n     </g>\n     <g id=\"text_11\">\n      <!-- 20 -->\n      <g transform=\"translate(7.2 170.196362)scale(0.1 -0.1)\">\n       <use xlink:href=\"#DejaVuSans-50\"/>\n       <use x=\"63.623047\" xlink:href=\"#DejaVuSans-48\"/>\n      </g>\n     </g>\n    </g>\n    <g id=\"ytick_6\">\n     <g id=\"line2d_12\">\n      <g>\n       <use style=\"stroke:#000000;stroke-width:0.8;\" x=\"26.925\" xlink:href=\"#maded4d1726\" y=\"205.225714\"/>\n      </g>\n     </g>\n     <g id=\"text_12\">\n      <!-- 25 -->\n      <g transform=\"translate(7.2 209.024933)scale(0.1 -0.1)\">\n       <use xlink:href=\"#DejaVuSans-50\"/>\n       <use x=\"63.623047\" xlink:href=\"#DejaVuSans-53\"/>\n      </g>\n     </g>\n    </g>\n   </g>\n   <g id=\"patch_3\">\n    <path d=\"M 26.925 224.64 \nL 26.925 7.2 \n\" style=\"fill:none;stroke:#000000;stroke-linecap:square;stroke-linejoin:miter;stroke-width:0.8;\"/>\n   </g>\n   <g id=\"patch_4\">\n    <path d=\"M 244.365 224.64 \nL 244.365 7.2 \n\" style=\"fill:none;stroke:#000000;stroke-linecap:square;stroke-linejoin:miter;stroke-width:0.8;\"/>\n   </g>\n   <g id=\"patch_5\">\n    <path d=\"M 26.925 224.64 \nL 244.365 224.64 \n\" style=\"fill:none;stroke:#000000;stroke-linecap:square;stroke-linejoin:miter;stroke-width:0.8;\"/>\n   </g>\n   <g id=\"patch_6\">\n    <path d=\"M 26.925 7.2 \nL 244.365 7.2 \n\" style=\"fill:none;stroke:#000000;stroke-linecap:square;stroke-linejoin:miter;stroke-width:0.8;\"/>\n   </g>\n  </g>\n </g>\n <defs>\n  <clipPath id=\"p69634e5847\">\n   <rect height=\"217.44\" width=\"217.44\" x=\"26.925\" y=\"7.2\"/>\n  </clipPath>\n </defs>\n</svg>\n",
      "image/png": "[encoded data removed]"
     },
     "metadata": {
      "needs_background": "light"
     }
    }
   ],
   "source": [
    "vae.eval()\n",
    "x_train = data.get_data('x_test').cuda()\n",
    "idx = np.random.randint(0, len(x_train))\n",
    "z, _, _ = vae.encoder_forward(x_train[idx:idx+1])\n",
    "im = vae.decoder_forward(z).detach().cpu()\n",
    "im_to_show = im.numpy()[0,0]\n",
    "plt.imshow(im_to_show)\n",
    "plt.show()"
   ]
  },
  {
   "cell_type": "code",
   "execution_count": 28,
   "metadata": {},
   "outputs": [],
   "source": [
    "# features, _ = clf.forward(im.cuda())\n",
    "for j in range(16):\n",
    "    a = np.linspace(-0.5, 0.5, 50)\n",
    "    zp = z.detach().clone()\n",
    "    # dist = []\n",
    "    images = []\n",
    "    for i in range(50):\n",
    "        zp[0, j] = a[i]\n",
    "        img = vae.decoder_forward(zp)\n",
    "        images.append(img[0, 0].detach().cpu())\n",
    "        # new_features, _ = clf.forward(img.cuda())\n",
    "        # dist.append(torch.sum((new_features - features)**2))\n",
    "    image_to_vid(images, name=f\"com{j}\")"
   ]
  },
  {
   "cell_type": "code",
   "execution_count": 19,
   "metadata": {},
   "outputs": [
    {
     "data": {
      "image/png": "[encoded data removed]",
      "text/plain": [
       "<Figure size 432x288 with 1 Axes>"
      ]
     },
     "metadata": {
      "needs_background": "light"
     },
     "output_type": "display_data"
    }
   ],
   "source": [
    "plt.plot(dist, linewidth=2)\n",
    "plt.grid(True,  which='both')\n",
    "plt.xlabel('index')\n",
    "plt.ylabel('distance')\n",
    "plt.title('distance vs index')\n",
    "plt.savefig('outputs/dist.pdf')"
   ]
  },
  {
   "cell_type": "code",
   "execution_count": 20,
   "metadata": {},
   "outputs": [],
   "source": [
    "features = autoencoder.encode(z)\n",
    "a = np.linspace(-.5, .5, 50)\n",
    "zp = z.detach().clone()\n",
    "dist = []\n",
    "for i in range(50):\n",
    "    zp[0, 5] = a[i]\n",
    "    new_features = autoencoder.encode(zp)\n",
    "    dist.append(torch.sum((new_features - features)**2))"
   ]
  },
  {
   "cell_type": "code",
   "execution_count": 21,
   "metadata": {},
   "outputs": [
    {
     "data": {
      "image/png": "[encoded data removed]",
      "text/plain": [
       "<Figure size 432x288 with 1 Axes>"
      ]
     },
     "metadata": {
      "needs_background": "light"
     },
     "output_type": "display_data"
    }
   ],
   "source": [
    "plt.plot(dist, linewidth=2)\n",
    "plt.grid(True,  which='both')\n",
    "plt.xlabel('index')\n",
    "plt.ylabel('distance')\n",
    "plt.title('distance vs index')\n",
    "plt.savefig('outputs/dist.pdf')"
   ]
  },
  {
   "cell_type": "code",
   "execution_count": 26,
   "metadata": {},
   "outputs": [
    {
     "data": {
      "image/png": "[encoded data removed]",
      "text/plain": [
       "<Figure size 432x288 with 1 Axes>"
      ]
     },
     "metadata": {
      "needs_background": "light"
     },
     "output_type": "display_data"
    }
   ],
   "source": [
    "autoencoder.load_state_dict(\n",
    "    torch.load('saved_models/vae-base-trained-v0')\n",
    "    )\n",
    "\n",
    "# autoencoder.load_state_dict(\n",
    "#     torch.load('saved_models/vae-lcifr-trained-v2')\n",
    "#     )\n",
    "\n",
    "features = autoencoder.encode(z)\n",
    "a = np.linspace(-.5, .5, 50)\n",
    "zp = z.detach().clone()\n",
    "dist = []\n",
    "for i in range(50):\n",
    "    zp[0, 5] = a[i]\n",
    "    new_features = autoencoder.encode(zp)\n",
    "    dist.append(torch.sum((new_features - features)**2))\n",
    "\n",
    "    \n",
    "plt.plot(dist, linewidth=2)\n",
    "plt.grid(True,  which='both')\n",
    "plt.xlabel('index')\n",
    "plt.ylabel('distance')\n",
    "plt.title('distance vs index')\n",
    "plt.savefig('outputs/dist.pdf')"
   ]
  },
  {
   "cell_type": "code",
   "execution_count": 72,
   "metadata": {},
   "outputs": [],
   "source": [
    "model = concat(vae, clf)\n",
    "attack = Attack(model=model,\n",
    "                loss_fn=nn.MSELoss(reduction='sum'),\n",
    "                device='cuda',\n",
    "                eps=0.5)\n",
    "\n",
    "adv = attack.pgd_attack(alpha=0.4, \n",
    "                        input_vec=z, \n",
    "                        targets=features.detach(), \n",
    "                        iterations=20, \n",
    "                        num_restarts=1, \n",
    "                        random_start=True)\n",
    "# adv =  attack.fgsm_attack(z.detach(),  features.detach())"
   ]
  },
  {
   "cell_type": "code",
   "execution_count": 86,
   "metadata": {},
   "outputs": [
    {
     "data": {
      "text/plain": [
       "tensor(3.8400, device='cuda:0', grad_fn=<SumBackward0>)"
      ]
     },
     "execution_count": 86,
     "metadata": {},
     "output_type": "execute_result"
    }
   ],
   "source": [
    "torch.sum((adv - z)**2)"
   ]
  },
  {
   "cell_type": "code",
   "execution_count": 74,
   "metadata": {},
   "outputs": [
    {
     "data": {
      "text/plain": [
       "<matplotlib.image.AxesImage at 0x7f8b4842b490>"
      ]
     },
     "execution_count": 74,
     "metadata": {},
     "output_type": "execute_result"
    },
    {
     "data": {
      "image/png": "[encoded data removed]",
      "image/svg+xml": [
       "<?xml version=\"1.0\" encoding=\"utf-8\" standalone=\"no\"?>\n",
       "<!DOCTYPE svg PUBLIC \"-//W3C//DTD SVG 1.1//EN\"\n",
       "  \"http://www.w3.org/Graphics/SVG/1.1/DTD/svg11.dtd\">\n",
       "<!-- Created with matplotlib (https://matplotlib.org/) -->\n",
       "<svg height=\"248.518125pt\" version=\"1.1\" viewBox=\"0 0 251.565 248.518125\" width=\"251.565pt\" xmlns=\"http://www.w3.org/2000/svg\" xmlns:xlink=\"http://www.w3.org/1999/xlink\">\n",
       " <metadata>\n",
       "  <rdf:RDF xmlns:cc=\"http://creativecommons.org/ns#\" xmlns:dc=\"http://purl.org/dc/elements/1.1/\" xmlns:rdf=\"http://www.w3.org/1999/02/22-rdf-syntax-ns#\">\n",
       "   <cc:Work>\n",
       "    <dc:type rdf:resource=\"http://purl.org/dc/dcmitype/StillImage\"/>\n",
       "    <dc:date>2021-04-04T20:48:51.719819</dc:date>\n",
       "    <dc:format>image/svg+xml</dc:format>\n",
       "    <dc:creator>\n",
       "     <cc:Agent>\n",
       "      <dc:title>Matplotlib v3.3.4, https://matplotlib.org/</dc:title>\n",
       "     </cc:Agent>\n",
       "    </dc:creator>\n",
       "   </cc:Work>\n",
       "  </rdf:RDF>\n",
       " </metadata>\n",
       " <defs>\n",
       "  <style type=\"text/css\">*{stroke-linecap:butt;stroke-linejoin:round;}</style>\n",
       " </defs>\n",
       " <g id=\"figure_1\">\n",
       "  <g id=\"patch_1\">\n",
       "   <path d=\"M 0 248.518125 \n",
       "L 251.565 248.518125 \n",
       "L 251.565 0 \n",
       "L 0 0 \n",
       "z\n",
       "\" style=\"fill:none;\"/>\n",
       "  </g>\n",
       "  <g id=\"axes_1\">\n",
       "   <g id=\"patch_2\">\n",
       "    <path d=\"M 26.925 224.64 \n",
       "L 244.365 224.64 \n",
       "L 244.365 7.2 \n",
       "L 26.925 7.2 \n",
       "z\n",
       "\" style=\"fill:#ffffff;\"/>\n",
       "   </g>\n",
       "   <g clip-path=\"url(#p776cf5b635)\">\n",
       "    <image height=\"218\" id=\"imageba434e3862\" transform=\"scale(1 -1)translate(0 -218)\" width=\"218\" x=\"26.925\" xlink:href=\"data:image/png;base64,\n",
       "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\" y=\"-6.64\"/>\n",
       "   </g>\n",
       "   <g id=\"matplotlib.axis_1\">\n",
       "    <g id=\"xtick_1\">\n",
       "     <g id=\"line2d_1\">\n",
       "      <defs>\n",
       "       <path d=\"M 0 0 \n",
       "L 0 3.5 \n",
       "\" id=\"mf9326991ff\" style=\"stroke:#000000;stroke-width:0.8;\"/>\n",
       "      </defs>\n",
       "      <g>\n",
       "       <use style=\"stroke:#000000;stroke-width:0.8;\" x=\"30.807857\" xlink:href=\"#mf9326991ff\" y=\"224.64\"/>\n",
       "      </g>\n",
       "     </g>\n",
       "     <g id=\"text_1\">\n",
       "      <!-- 0 -->\n",
       "      <g transform=\"translate(27.626607 239.238437)scale(0.1 -0.1)\">\n",
       "       <defs>\n",
       "        <path d=\"M 31.78125 66.40625 \n",
       "Q 24.171875 66.40625 20.328125 58.90625 \n",
       "Q 16.5 51.421875 16.5 36.375 \n",
       "Q 16.5 21.390625 20.328125 13.890625 \n",
       "Q 24.171875 6.390625 31.78125 6.390625 \n",
       "Q 39.453125 6.390625 43.28125 13.890625 \n",
       "Q 47.125 21.390625 47.125 36.375 \n",
       "Q 47.125 51.421875 43.28125 58.90625 \n",
       "Q 39.453125 66.40625 31.78125 66.40625 \n",
       "z\n",
       "M 31.78125 74.21875 \n",
       "Q 44.046875 74.21875 50.515625 64.515625 \n",
       "Q 56.984375 54.828125 56.984375 36.375 \n",
       "Q 56.984375 17.96875 50.515625 8.265625 \n",
       "Q 44.046875 -1.421875 31.78125 -1.421875 \n",
       "Q 19.53125 -1.421875 13.0625 8.265625 \n",
       "Q 6.59375 17.96875 6.59375 36.375 \n",
       "Q 6.59375 54.828125 13.0625 64.515625 \n",
       "Q 19.53125 74.21875 31.78125 74.21875 \n",
       "z\n",
       "\" id=\"DejaVuSans-48\"/>\n",
       "       </defs>\n",
       "       <use xlink:href=\"#DejaVuSans-48\"/>\n",
       "      </g>\n",
       "     </g>\n",
       "    </g>\n",
       "    <g id=\"xtick_2\">\n",
       "     <g id=\"line2d_2\">\n",
       "      <g>\n",
       "       <use style=\"stroke:#000000;stroke-width:0.8;\" x=\"69.636429\" xlink:href=\"#mf9326991ff\" y=\"224.64\"/>\n",
       "      </g>\n",
       "     </g>\n",
       "     <g id=\"text_2\">\n",
       "      <!-- 5 -->\n",
       "      <g transform=\"translate(66.455179 239.238437)scale(0.1 -0.1)\">\n",
       "       <defs>\n",
       "        <path d=\"M 10.796875 72.90625 \n",
       "L 49.515625 72.90625 \n",
       "L 49.515625 64.59375 \n",
       "L 19.828125 64.59375 \n",
       "L 19.828125 46.734375 \n",
       "Q 21.96875 47.46875 24.109375 47.828125 \n",
       "Q 26.265625 48.1875 28.421875 48.1875 \n",
       "Q 40.625 48.1875 47.75 41.5 \n",
       "Q 54.890625 34.8125 54.890625 23.390625 \n",
       "Q 54.890625 11.625 47.5625 5.09375 \n",
       "Q 40.234375 -1.421875 26.90625 -1.421875 \n",
       "Q 22.3125 -1.421875 17.546875 -0.640625 \n",
       "Q 12.796875 0.140625 7.71875 1.703125 \n",
       "L 7.71875 11.625 \n",
       "Q 12.109375 9.234375 16.796875 8.0625 \n",
       "Q 21.484375 6.890625 26.703125 6.890625 \n",
       "Q 35.15625 6.890625 40.078125 11.328125 \n",
       "Q 45.015625 15.765625 45.015625 23.390625 \n",
       "Q 45.015625 31 40.078125 35.4375 \n",
       "Q 35.15625 39.890625 26.703125 39.890625 \n",
       "Q 22.75 39.890625 18.8125 39.015625 \n",
       "Q 14.890625 38.140625 10.796875 36.28125 \n",
       "z\n",
       "\" id=\"DejaVuSans-53\"/>\n",
       "       </defs>\n",
       "       <use xlink:href=\"#DejaVuSans-53\"/>\n",
       "      </g>\n",
       "     </g>\n",
       "    </g>\n",
       "    <g id=\"xtick_3\">\n",
       "     <g id=\"line2d_3\">\n",
       "      <g>\n",
       "       <use style=\"stroke:#000000;stroke-width:0.8;\" x=\"108.465\" xlink:href=\"#mf9326991ff\" y=\"224.64\"/>\n",
       "      </g>\n",
       "     </g>\n",
       "     <g id=\"text_3\">\n",
       "      <!-- 10 -->\n",
       "      <g transform=\"translate(102.1025 239.238437)scale(0.1 -0.1)\">\n",
       "       <defs>\n",
       "        <path d=\"M 12.40625 8.296875 \n",
       "L 28.515625 8.296875 \n",
       "L 28.515625 63.921875 \n",
       "L 10.984375 60.40625 \n",
       "L 10.984375 69.390625 \n",
       "L 28.421875 72.90625 \n",
       "L 38.28125 72.90625 \n",
       "L 38.28125 8.296875 \n",
       "L 54.390625 8.296875 \n",
       "L 54.390625 0 \n",
       "L 12.40625 0 \n",
       "z\n",
       "\" id=\"DejaVuSans-49\"/>\n",
       "       </defs>\n",
       "       <use xlink:href=\"#DejaVuSans-49\"/>\n",
       "       <use x=\"63.623047\" xlink:href=\"#DejaVuSans-48\"/>\n",
       "      </g>\n",
       "     </g>\n",
       "    </g>\n",
       "    <g id=\"xtick_4\">\n",
       "     <g id=\"line2d_4\">\n",
       "      <g>\n",
       "       <use style=\"stroke:#000000;stroke-width:0.8;\" x=\"147.293571\" xlink:href=\"#mf9326991ff\" y=\"224.64\"/>\n",
       "      </g>\n",
       "     </g>\n",
       "     <g id=\"text_4\">\n",
       "      <!-- 15 -->\n",
       "      <g transform=\"translate(140.931071 239.238437)scale(0.1 -0.1)\">\n",
       "       <use xlink:href=\"#DejaVuSans-49\"/>\n",
       "       <use x=\"63.623047\" xlink:href=\"#DejaVuSans-53\"/>\n",
       "      </g>\n",
       "     </g>\n",
       "    </g>\n",
       "    <g id=\"xtick_5\">\n",
       "     <g id=\"line2d_5\">\n",
       "      <g>\n",
       "       <use style=\"stroke:#000000;stroke-width:0.8;\" x=\"186.122143\" xlink:href=\"#mf9326991ff\" y=\"224.64\"/>\n",
       "      </g>\n",
       "     </g>\n",
       "     <g id=\"text_5\">\n",
       "      <!-- 20 -->\n",
       "      <g transform=\"translate(179.759643 239.238437)scale(0.1 -0.1)\">\n",
       "       <defs>\n",
       "        <path d=\"M 19.1875 8.296875 \n",
       "L 53.609375 8.296875 \n",
       "L 53.609375 0 \n",
       "L 7.328125 0 \n",
       "L 7.328125 8.296875 \n",
       "Q 12.9375 14.109375 22.625 23.890625 \n",
       "Q 32.328125 33.6875 34.8125 36.53125 \n",
       "Q 39.546875 41.84375 41.421875 45.53125 \n",
       "Q 43.3125 49.21875 43.3125 52.78125 \n",
       "Q 43.3125 58.59375 39.234375 62.25 \n",
       "Q 35.15625 65.921875 28.609375 65.921875 \n",
       "Q 23.96875 65.921875 18.8125 64.3125 \n",
       "Q 13.671875 62.703125 7.8125 59.421875 \n",
       "L 7.8125 69.390625 \n",
       "Q 13.765625 71.78125 18.9375 73 \n",
       "Q 24.125 74.21875 28.421875 74.21875 \n",
       "Q 39.75 74.21875 46.484375 68.546875 \n",
       "Q 53.21875 62.890625 53.21875 53.421875 \n",
       "Q 53.21875 48.921875 51.53125 44.890625 \n",
       "Q 49.859375 40.875 45.40625 35.40625 \n",
       "Q 44.1875 33.984375 37.640625 27.21875 \n",
       "Q 31.109375 20.453125 19.1875 8.296875 \n",
       "z\n",
       "\" id=\"DejaVuSans-50\"/>\n",
       "       </defs>\n",
       "       <use xlink:href=\"#DejaVuSans-50\"/>\n",
       "       <use x=\"63.623047\" xlink:href=\"#DejaVuSans-48\"/>\n",
       "      </g>\n",
       "     </g>\n",
       "    </g>\n",
       "    <g id=\"xtick_6\">\n",
       "     <g id=\"line2d_6\">\n",
       "      <g>\n",
       "       <use style=\"stroke:#000000;stroke-width:0.8;\" x=\"224.950714\" xlink:href=\"#mf9326991ff\" y=\"224.64\"/>\n",
       "      </g>\n",
       "     </g>\n",
       "     <g id=\"text_6\">\n",
       "      <!-- 25 -->\n",
       "      <g transform=\"translate(218.588214 239.238437)scale(0.1 -0.1)\">\n",
       "       <use xlink:href=\"#DejaVuSans-50\"/>\n",
       "       <use x=\"63.623047\" xlink:href=\"#DejaVuSans-53\"/>\n",
       "      </g>\n",
       "     </g>\n",
       "    </g>\n",
       "   </g>\n",
       "   <g id=\"matplotlib.axis_2\">\n",
       "    <g id=\"ytick_1\">\n",
       "     <g id=\"line2d_7\">\n",
       "      <defs>\n",
       "       <path d=\"M 0 0 \n",
       "L -3.5 0 \n",
       "\" id=\"m820e19d07b\" style=\"stroke:#000000;stroke-width:0.8;\"/>\n",
       "      </defs>\n",
       "      <g>\n",
       "       <use style=\"stroke:#000000;stroke-width:0.8;\" x=\"26.925\" xlink:href=\"#m820e19d07b\" y=\"11.082857\"/>\n",
       "      </g>\n",
       "     </g>\n",
       "     <g id=\"text_7\">\n",
       "      <!-- 0 -->\n",
       "      <g transform=\"translate(13.5625 14.882076)scale(0.1 -0.1)\">\n",
       "       <use xlink:href=\"#DejaVuSans-48\"/>\n",
       "      </g>\n",
       "     </g>\n",
       "    </g>\n",
       "    <g id=\"ytick_2\">\n",
       "     <g id=\"line2d_8\">\n",
       "      <g>\n",
       "       <use style=\"stroke:#000000;stroke-width:0.8;\" x=\"26.925\" xlink:href=\"#m820e19d07b\" y=\"49.911429\"/>\n",
       "      </g>\n",
       "     </g>\n",
       "     <g id=\"text_8\">\n",
       "      <!-- 5 -->\n",
       "      <g transform=\"translate(13.5625 53.710647)scale(0.1 -0.1)\">\n",
       "       <use xlink:href=\"#DejaVuSans-53\"/>\n",
       "      </g>\n",
       "     </g>\n",
       "    </g>\n",
       "    <g id=\"ytick_3\">\n",
       "     <g id=\"line2d_9\">\n",
       "      <g>\n",
       "       <use style=\"stroke:#000000;stroke-width:0.8;\" x=\"26.925\" xlink:href=\"#m820e19d07b\" y=\"88.74\"/>\n",
       "      </g>\n",
       "     </g>\n",
       "     <g id=\"text_9\">\n",
       "      <!-- 10 -->\n",
       "      <g transform=\"translate(7.2 92.539219)scale(0.1 -0.1)\">\n",
       "       <use xlink:href=\"#DejaVuSans-49\"/>\n",
       "       <use x=\"63.623047\" xlink:href=\"#DejaVuSans-48\"/>\n",
       "      </g>\n",
       "     </g>\n",
       "    </g>\n",
       "    <g id=\"ytick_4\">\n",
       "     <g id=\"line2d_10\">\n",
       "      <g>\n",
       "       <use style=\"stroke:#000000;stroke-width:0.8;\" x=\"26.925\" xlink:href=\"#m820e19d07b\" y=\"127.568571\"/>\n",
       "      </g>\n",
       "     </g>\n",
       "     <g id=\"text_10\">\n",
       "      <!-- 15 -->\n",
       "      <g transform=\"translate(7.2 131.36779)scale(0.1 -0.1)\">\n",
       "       <use xlink:href=\"#DejaVuSans-49\"/>\n",
       "       <use x=\"63.623047\" xlink:href=\"#DejaVuSans-53\"/>\n",
       "      </g>\n",
       "     </g>\n",
       "    </g>\n",
       "    <g id=\"ytick_5\">\n",
       "     <g id=\"line2d_11\">\n",
       "      <g>\n",
       "       <use style=\"stroke:#000000;stroke-width:0.8;\" x=\"26.925\" xlink:href=\"#m820e19d07b\" y=\"166.397143\"/>\n",
       "      </g>\n",
       "     </g>\n",
       "     <g id=\"text_11\">\n",
       "      <!-- 20 -->\n",
       "      <g transform=\"translate(7.2 170.196362)scale(0.1 -0.1)\">\n",
       "       <use xlink:href=\"#DejaVuSans-50\"/>\n",
       "       <use x=\"63.623047\" xlink:href=\"#DejaVuSans-48\"/>\n",
       "      </g>\n",
       "     </g>\n",
       "    </g>\n",
       "    <g id=\"ytick_6\">\n",
       "     <g id=\"line2d_12\">\n",
       "      <g>\n",
       "       <use style=\"stroke:#000000;stroke-width:0.8;\" x=\"26.925\" xlink:href=\"#m820e19d07b\" y=\"205.225714\"/>\n",
       "      </g>\n",
       "     </g>\n",
       "     <g id=\"text_12\">\n",
       "      <!-- 25 -->\n",
       "      <g transform=\"translate(7.2 209.024933)scale(0.1 -0.1)\">\n",
       "       <use xlink:href=\"#DejaVuSans-50\"/>\n",
       "       <use x=\"63.623047\" xlink:href=\"#DejaVuSans-53\"/>\n",
       "      </g>\n",
       "     </g>\n",
       "    </g>\n",
       "   </g>\n",
       "   <g id=\"patch_3\">\n",
       "    <path d=\"M 26.925 224.64 \n",
       "L 26.925 7.2 \n",
       "\" style=\"fill:none;stroke:#000000;stroke-linecap:square;stroke-linejoin:miter;stroke-width:0.8;\"/>\n",
       "   </g>\n",
       "   <g id=\"patch_4\">\n",
       "    <path d=\"M 244.365 224.64 \n",
       "L 244.365 7.2 \n",
       "\" style=\"fill:none;stroke:#000000;stroke-linecap:square;stroke-linejoin:miter;stroke-width:0.8;\"/>\n",
       "   </g>\n",
       "   <g id=\"patch_5\">\n",
       "    <path d=\"M 26.925 224.64 \n",
       "L 244.365 224.64 \n",
       "\" style=\"fill:none;stroke:#000000;stroke-linecap:square;stroke-linejoin:miter;stroke-width:0.8;\"/>\n",
       "   </g>\n",
       "   <g id=\"patch_6\">\n",
       "    <path d=\"M 26.925 7.2 \n",
       "L 244.365 7.2 \n",
       "\" style=\"fill:none;stroke:#000000;stroke-linecap:square;stroke-linejoin:miter;stroke-width:0.8;\"/>\n",
       "   </g>\n",
       "  </g>\n",
       " </g>\n",
       " <defs>\n",
       "  <clipPath id=\"p776cf5b635\">\n",
       "   <rect height=\"217.44\" width=\"217.44\" x=\"26.925\" y=\"7.2\"/>\n",
       "  </clipPath>\n",
       " </defs>\n",
       "</svg>\n"
      ],
      "text/plain": [
       "<Figure size 432x288 with 1 Axes>"
      ]
     },
     "metadata": {
      "needs_background": "light"
     },
     "output_type": "display_data"
    }
   ],
   "source": [
    "im = vae.decoder_forward(adv).detach()[0,0]\n",
    "im = im.cpu().numpy()\n",
    "plt.imshow(im)"
   ]
  },
  {
   "cell_type": "code",
   "execution_count": 8,
   "metadata": {},
   "outputs": [
    {
     "data": {
      "text/plain": [
       "94"
      ]
     },
     "execution_count": 8,
     "metadata": {},
     "output_type": "execute_result"
    }
   ],
   "source": [
    "for j in range(16):\n",
    "    a = np.linspace(-.5, .5, 50)\n",
    "    zp = z.detach().clone()\n",
    "    images = []\n",
    "    for i in range(50):\n",
    "        zp[0, j] = a[i]\n",
    "        im = vae.decoder_forward(zp).detach()[0, 0]\n",
    "        images.append(im)\n",
    "    image_to_vid(images, f'comp{j}')"
   ]
  },
  {
   "cell_type": "code",
   "execution_count": null,
   "metadata": {},
   "outputs": [],
   "source": []
  }
 ],
 "metadata": {
  "kernelspec": {
   "name": "python388jvsc74a57bd04a5c5db3113499e733cb8c26a35f225ae3055445bddbbf6647238c371072a2ba",
   "display_name": "Python 3.8.8 64-bit ('main': conda)",
   "language": "python"
  },
  "language_info": {
   "codemirror_mode": {
    "name": "ipython",
    "version": 3
   },
   "file_extension": ".py",
   "mimetype": "text/x-python",
   "name": "python",
   "nbconvert_exporter": "python",
   "pygments_lexer": "ipython3",
   "version": "3.8.8"
  }
 },
 "nbformat": 4,
 "nbformat_minor": 4
}